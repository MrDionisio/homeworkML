{
 "cells": [
  {
   "cell_type": "markdown",
   "id": "e4d450c2",
   "metadata": {},
   "source": [
    "# Словарь"
   ]
  },
  {
   "cell_type": "markdown",
   "id": "ca42b161",
   "metadata": {
    "ExecuteTime": {
     "end_time": "2024-11-12T17:23:33.620558Z",
     "start_time": "2024-11-12T17:23:33.612887Z"
    }
   },
   "source": [
    "## Порядок сдачи домашнего"
   ]
  },
  {
   "cell_type": "markdown",
   "id": "1ff1df47",
   "metadata": {},
   "source": [
    "Вам требуется создать гит репозиторий куда вы будете складывать все ваши домашние. Под каждое домашнее вы создаете отдельную ветку куда вносите все изменения в рамках домашнего. Как только домашнее готово - создаете пулл реквест (обратите внимание что в пулл реквесте должны быть отражены все изменения в рамках домашнего) или присылаете код в СДО. Ревьювером назначаете http://github.com/michael15346/ и https://github.com/shgpavel . Перед сдачей проверьте код, напишите тесты. Не забудьте про PEP8, например, с помощью flake8. Задание нужно делать в jupyter notebook.\n",
    "\n",
    "**Дедлайн - 25 ноября 10:00**"
   ]
  },
  {
   "cell_type": "markdown",
   "id": "f9fd13a2",
   "metadata": {},
   "source": [
    "Во время лекции мы с вами познакомились с различными реализациями множества и массива. Задача домашнего задания реализовать собственное множество. Операции добавления и удаления должны работать аммортизированное $O(1)$.\n",
    "\n",
    "Пример использования:\n",
    "```python\n",
    "d = Dict()\n",
    "d[\"name\"] = \"Peter\"\n",
    "d[\"age\"] = 25\n",
    "d[\"city\"] = \"Saint-Petersburg\"\n",
    "\n",
    "print(d[\"name\"])\n",
    "Peter\n",
    "\n",
    "print(\"age\" in d)\n",
    "True\n",
    "\n",
    "del d[\"city\"]\n",
    "\n",
    "print(d.keys())\n",
    "['name', 'age']\n",
    "\n",
    "print(d.values())\n",
    "['Peter', 25]\n",
    "\n",
    "print(d.items())\n",
    "[('name', 'Peter'), ('age', 25)]\n",
    "\n",
    "print(d)\n",
    "{'name': 'Peter', 'age': 25}\n",
    "```"
   ]
  },
  {
   "cell_type": "code",
   "execution_count": 3,
   "id": "1f4b4200-ff25-4284-86cc-0c9c2167f068",
   "metadata": {},
   "outputs": [],
   "source": [
    "class Dict:\n",
    "    def __init__(self, size=100):\n",
    "        self.count = 0\n",
    "        self.table = [[] for _ in range(size)]\n",
    "        self.size = size\n",
    "\n",
    "    def __setitem__(self, key, value):\n",
    "        \"\"\"Добавление или обновление значения по ключу.\"\"\"\n",
    "        index_table = self._hash(key)\n",
    "        bucket = self.table[index_table]\n",
    "        index_bucket = self._find(bucket, key)\n",
    "        if index_bucket != -1:\n",
    "            bucket[index_bucket] = (key, value)\n",
    "        else:\n",
    "            bucket.append((key, value))\n",
    "            self.count += 1\n",
    "\n",
    "\n",
    "    def _find(self, bucket, key):\n",
    "\n",
    "        for i, (k, v) in enumerate(bucket):\n",
    "             if k == key:\n",
    "                 return i\n",
    "        return -1\n",
    "\n",
    "\n",
    "    def _hash(self, key):\n",
    "        return hash(key)%self.size\n",
    "\n",
    "    def __getitem__(self, key):\n",
    "        \"\"\"Получение значения по ключу.\"\"\"\n",
    "        index_table = self._hash(key)\n",
    "        bucket = self.table[index_table]\n",
    "        index_bucket = self._find(bucket, key)\n",
    "        if index_bucket != -1:\n",
    "            return bucket[index_bucket][1]\n",
    "            \n",
    "        raise KeyError(f\"Key {key} not found\")\n",
    "\n",
    "    def __delitem__(self, key):\n",
    "        \"\"\"Удаление ключа и значения.\"\"\"\n",
    "        index_table = self._hash(key)\n",
    "        bucket = self.table[index_table]\n",
    "        index_bucket = self._find(bucket, key)\n",
    "\n",
    "        if index_bucket != -1:\n",
    "            self.count -= 1\n",
    "            del bucket[index_bucket]\n",
    "        else: \n",
    "            raise KeyError(f\"Key {key} not found\")\n",
    "        \n",
    "    def __contains__(self, key):\n",
    "        \"\"\"Проверка наличия ключа.\"\"\"\n",
    "        index = self._hash(key)\n",
    "        bucket = self.table[index]\n",
    "        return self._find(bucket, key) != -1\n",
    "\n",
    "    def keys(self):\n",
    "        \"\"\"Получение всех ключей.\"\"\"\n",
    "        return [k for bucket in self.table for k, v in bucket]\n",
    "        \n",
    "    def values(self):\n",
    "        \"\"\"Получение всех значений.\"\"\"\n",
    "        return [v for bucket in self.table for k, v in bucket]\n",
    "        \n",
    "    def items(self):\n",
    "        \"\"\"Получение всех пар (ключ, значение).\"\"\"\n",
    "        return [(k, v) for bucket in self.table for k, v in bucket]\n",
    "        \n",
    "    def __repr__(self):\n",
    "        \"\"\"Представление таблицы.\"\"\"\n",
    "        items = \", \".join(f\"{repr(k)}: {repr(v)}\" for k, v in self.items())\n",
    "        return f\"{{{items}}}\""
   ]
  },
  {
   "cell_type": "code",
   "execution_count": null,
   "id": "3db096ae",
   "metadata": {},
   "outputs": [
    {
     "name": "stdout",
     "output_type": "stream",
     "text": [
      "Peter\n",
      "True\n",
      "['age', 'name']\n",
      "[25, 'Peter']\n",
      "[('age', 25), ('name', 'Peter')]\n",
      "{'age': 25, 'name': 'Peter'}\n"
     ]
    }
   ],
   "source": [
    "d = Dict()\n",
    "d[\"name\"] = \"Denis\"\n",
    "d[\"age\"] = 22\n",
    "d[\"city\"] = \"Saint-Petersburg\"\n",
    "\n",
    "print(d[\"name\"])  # Denis\n",
    "print(\"age\" in d)  # True\n",
    "\n",
    "del d[\"city\"]\n",
    "\n",
    "print(d.keys())  # ['name', 'age']\n",
    "print(d.values())  # ['Denis', 22]\n",
    "print(d.items())  # [('name', 'Denis'), ('age', 22)]\n",
    "print(d)  # {'name': 'Denis', 'age': 22}\n"
   ]
  }
 ],
 "metadata": {
  "kernelspec": {
   "display_name": "study",
   "language": "python",
   "name": "python3"
  },
  "language_info": {
   "codemirror_mode": {
    "name": "ipython",
    "version": 3
   },
   "file_extension": ".py",
   "mimetype": "text/x-python",
   "name": "python",
   "nbconvert_exporter": "python",
   "pygments_lexer": "ipython3",
   "version": "3.12.4"
  }
 },
 "nbformat": 4,
 "nbformat_minor": 5
}
